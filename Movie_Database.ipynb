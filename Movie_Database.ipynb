{
 "cells": [
  {
   "cell_type": "code",
   "execution_count": 8,
   "metadata": {},
   "outputs": [],
   "source": [
    "import pandas as pd\n",
    "import requests\n",
    "from bs4 import BeautifulSoup\n",
    "import csv"
   ]
  },
  {
   "cell_type": "code",
   "execution_count": 2,
   "metadata": {
    "scrolled": true
   },
   "outputs": [],
   "source": [
    "url='https://www.imdb.com/search/title/?count=100&groups=top_1000&sort=user_rating'\n",
    "result=requests.get(url)\n",
    "soup=BeautifulSoup(result.content,'html.parser')\n"
   ]
  },
  {
   "cell_type": "code",
   "execution_count": 3,
   "metadata": {},
   "outputs": [],
   "source": [
    "#declaring the empty list to store the data\n",
    "title=[]\n",
    "release=[]\n",
    "genre=[]\n",
    "ratings=[]\n",
    "crtificate=[]\n",
    "votes=[]\n",
    "gross=[]\n",
    "duration=[]"
   ]
  },
  {
   "cell_type": "code",
   "execution_count": 4,
   "metadata": {},
   "outputs": [],
   "source": [
    "movie_data=soup.findAll('div',attrs={'class':'lister-item mode-advanced'})"
   ]
  },
  {
   "cell_type": "code",
   "execution_count": 5,
   "metadata": {},
   "outputs": [],
   "source": [
    "for store in movie_data:\n",
    "    name=store.h3.a.text\n",
    "    title.append(name)\n",
    "    \n",
    "    year=store.h3.find('span',class_='lister-item-year text-muted unbold').text.replace('(','').replace(')','')\n",
    "    release.append(year)\n",
    "    \n",
    "    group=store.p.find('span',class_='genre').text.replace('\\n','')\n",
    "    genre.append(group)\n",
    "    \n",
    "    rate=store.find('div',class_='inline-block ratings-imdb-rating').text.replace('\\n','')\n",
    "    ratings.append(rate)\n",
    "    \n",
    "    #I used if else because if there is no value for certification then it will return none object error\n",
    "    certificat=store.p.find('span',class_='certificate').text if store.find('span',class_='certificate') else 'N/A'\n",
    "    crtificate.append(certificat)\n",
    "    \n",
    "    value=store.find_all('span', attrs={'name':'nv'})\n",
    "    vote=value[0].text\n",
    "    votes.append(vote)\n",
    "    \n",
    "    gros=value[1].text if len(value)>1 else 'N/A'\n",
    "    gross.append(gros)\n",
    "    \n",
    "    runtime=store.p.find('span',class_='runtime').text\n",
    "    duration.append(runtime)\n",
    "    "
   ]
  },
  {
   "cell_type": "code",
   "execution_count": 6,
   "metadata": {},
   "outputs": [],
   "source": [
    "movie_DF = pd.DataFrame({'Name of movie':title,'Release Year':release,'Genre':genre,'Rating':ratings,'Certificate':crtificate,'Public Votes':votes,'Budget': gross,'Watchtime':duration})"
   ]
  },
  {
   "cell_type": "code",
   "execution_count": 10,
   "metadata": {},
   "outputs": [],
   "source": [
    "movie_DF.to_csv('movie_database',header= False, index=True)"
   ]
  },
  {
   "cell_type": "code",
   "execution_count": null,
   "metadata": {},
   "outputs": [],
   "source": []
  },
  {
   "cell_type": "code",
   "execution_count": null,
   "metadata": {},
   "outputs": [],
   "source": []
  }
 ],
 "metadata": {
  "kernelspec": {
   "display_name": "Python 3",
   "language": "python",
   "name": "python3"
  },
  "language_info": {
   "codemirror_mode": {
    "name": "ipython",
    "version": 3
   },
   "file_extension": ".py",
   "mimetype": "text/x-python",
   "name": "python",
   "nbconvert_exporter": "python",
   "pygments_lexer": "ipython3",
   "version": "3.7.4"
  }
 },
 "nbformat": 4,
 "nbformat_minor": 2
}
